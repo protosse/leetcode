{
 "cells": [
  {
   "cell_type": "markdown",
   "id": "b0bee472",
   "metadata": {},
   "source": [
    "# 图的遍历"
   ]
  },
  {
   "cell_type": "code",
   "execution_count": null,
   "id": "c8886b7c",
   "metadata": {},
   "outputs": [],
   "source": [
    "graph = {\"A\": [\"B\", \"C\"], \"B\": [\"D\", \"E\"], \"E\": [\"F\"], \"C\": [\"F\"]}\n",
    "\n",
    "vertexs = [\"A\", \"B\", \"C\", \"D\", \"E\", \"F\"]\n",
    "\n",
    "graph_matrix = [\n",
    "    [0, 1, 1, 0, 0, 0],  # A\n",
    "    [0, 0, 0, 1, 1, 0],  # B\n",
    "    [0, 0, 0, 0, 0, 1],  # C\n",
    "    [0, 0, 0, 0, 0, 0],  # D\n",
    "    [0, 0, 0, 0, 0, 1],  # E\n",
    "    [0, 0, 0, 0, 0, 0],  # F\n",
    "]"
   ]
  },
  {
   "cell_type": "code",
   "execution_count": null,
   "id": "0dc01c30",
   "metadata": {},
   "outputs": [],
   "source": [
    "def dfs(graph, start, visited=None):\n",
    "    if visited is None:\n",
    "        visited = []\n",
    "\n",
    "    visited.append(start)\n",
    "\n",
    "    if graph.__contains__(start):\n",
    "        for next in graph[start]:\n",
    "            if next not in visited:\n",
    "                dfs(graph, next, visited)\n",
    "\n",
    "    return visited\n",
    "\n",
    "\n",
    "def dfs_matrix(graph, start, visited=None):\n",
    "    if visited is None:\n",
    "        visited = []\n",
    "\n",
    "    visited.append(start)\n",
    "    index = vertexs.index(start)\n",
    "    for idx, weight in enumerate(graph_matrix[index]):\n",
    "        if weight and vertexs[idx] not in visited:\n",
    "            dfs_matrix(graph, vertexs[idx], visited)\n",
    "\n",
    "    return visited\n",
    "\n",
    "\n",
    "print(dfs(graph, \"A\"))\n",
    "print(dfs_matrix(graph_matrix, \"A\"))"
   ]
  },
  {
   "cell_type": "code",
   "execution_count": 15,
   "id": "2b4d90a9",
   "metadata": {},
   "outputs": [
    {
     "name": "stdout",
     "output_type": "stream",
     "text": [
      "['A', 'B', 'C', 'D', 'E', 'F']\n",
      "['A', 'B', 'C', 'D', 'E', 'F']\n"
     ]
    }
   ],
   "source": [
    "def bfs(graph, start):\n",
    "    visited, queue = [], [start]\n",
    "    while queue:\n",
    "        vertex = queue.pop(0)\n",
    "        if vertex not in visited:\n",
    "            visited.append(vertex)\n",
    "            if graph.__contains__(vertex):\n",
    "                queue.extend(graph[vertex])\n",
    "\n",
    "    return visited\n",
    "\n",
    "\n",
    "def bfs_matrix(graph, start):\n",
    "    visited, queue = [], [start]\n",
    "    while queue:\n",
    "        vertex = queue.pop(0)\n",
    "        if vertex not in visited:\n",
    "            visited.append(vertex)\n",
    "            index = vertexs.index(vertex)\n",
    "            for idx, weight in enumerate(graph_matrix[index]):\n",
    "                if weight and vertexs[idx] not in visited:\n",
    "                    queue.append(vertexs[idx])\n",
    "\n",
    "    return visited\n",
    "\n",
    "\n",
    "print(bfs(graph, \"A\"))\n",
    "print(bfs_matrix(graph, \"A\"))"
   ]
  },
  {
   "cell_type": "markdown",
   "id": "045cc607",
   "metadata": {},
   "source": [
    "# 两顶点之间路径"
   ]
  },
  {
   "cell_type": "code",
   "execution_count": null,
   "id": "38541f49",
   "metadata": {},
   "outputs": [],
   "source": [
    "def dfs_paths(graph, start, end, path=None):\n",
    "    if path is None:\n",
    "        path = [start]\n",
    "\n",
    "    if start == end:\n",
    "        yield path\n",
    "\n",
    "    if graph.__contains__(start):\n",
    "        for next in graph[start]:\n",
    "            if next not in path:\n",
    "                yield from dfs_paths(graph, next, end, path + [next])\n",
    "\n",
    "\n",
    "def bfs_paths(graph, start, end):\n",
    "    queue = [(start, [start])]\n",
    "    while queue:\n",
    "        (vertex, path) = queue.pop(0)\n",
    "        if graph.__contains__(vertex):\n",
    "            for next in graph[vertex]:\n",
    "                if next == end:\n",
    "                    yield path + [next]\n",
    "                else:\n",
    "                    queue.append((next, path + [next]))\n",
    "\n",
    "\n",
    "print(list(dfs_paths(graph, \"A\", \"F\")))\n",
    "print(list(bfs_paths(graph, \"A\", \"F\")))"
   ]
  },
  {
   "cell_type": "markdown",
   "id": "6b47e7ef",
   "metadata": {},
   "source": [
    "# 两顶点之间最短路径\n",
    "\n",
    "通过 BFS 求路径过程中，第一个满足条件的路径即为最短路径"
   ]
  },
  {
   "cell_type": "code",
   "execution_count": null,
   "id": "595dbe6e",
   "metadata": {},
   "outputs": [],
   "source": [
    "def bfs_paths(graph, start, end):\n",
    "    queue = [(start, [start])]\n",
    "    while queue:\n",
    "        (vertex, path) = queue.pop(0)\n",
    "        if graph.__contains__(vertex):\n",
    "            for next in graph[vertex]:\n",
    "                if next == end:\n",
    "                    yield path + [next]\n",
    "                else:\n",
    "                    queue.append((next, path + [next]))\n",
    "\n",
    "\n",
    "def shortest_path_bfs(graph, start, end):\n",
    "    try:\n",
    "        return next(bfs_paths(graph, start, end))\n",
    "    except StopIteration:\n",
    "        return None\n",
    "\n",
    "\n",
    "print(shortest_path_bfs(graph, \"A\", \"F\"))"
   ]
  }
 ],
 "metadata": {
  "kernelspec": {
   "display_name": "Python 3",
   "language": "python",
   "name": "python3"
  },
  "language_info": {
   "codemirror_mode": {
    "name": "ipython",
    "version": 3
   },
   "file_extension": ".py",
   "mimetype": "text/x-python",
   "name": "python",
   "nbconvert_exporter": "python",
   "pygments_lexer": "ipython3",
   "version": "3.13.2"
  }
 },
 "nbformat": 4,
 "nbformat_minor": 5
}
