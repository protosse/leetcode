{
 "cells": [
  {
   "cell_type": "markdown",
   "metadata": {},
   "source": [
    "# 双指针单链表技巧\n",
    "\n",
    "双指针技巧主要分为两类：左右指针和快慢指针\n",
    "\n",
    "所谓左右指针，就是两个指针相向而行或者相背而行；而所谓快慢指针，就是两个指针同向而行，一快一慢。\n",
    "\n",
    "在数组中并没有真正意义上的指针，但我们可以把索引当做数组中的指针，这样也可以在数组中施展双指针技巧"
   ]
  },
  {
   "cell_type": "code",
   "execution_count": null,
   "metadata": {},
   "outputs": [],
   "source": [
    "from typing import Optional, List\n",
    "\n",
    "\n",
    "class ListNode:\n",
    "    def __init__(self, val=0, next=None):\n",
    "        self.val = val\n",
    "        self.next = next\n",
    "\n",
    "\n",
    "# Helper function to create a linked list from a list\n",
    "def create_linked_list(values):\n",
    "    if not values:\n",
    "        return None\n",
    "    head = ListNode(values[0])\n",
    "    current = head\n",
    "    for value in values[1:]:\n",
    "        current.next = ListNode(value)\n",
    "        current = current.next\n",
    "    return head\n",
    "\n",
    "\n",
    "# Helper function to convert a linked list to a list\n",
    "def linked_list_to_list(node):\n",
    "    result = []\n",
    "    while node:\n",
    "        result.append(node.val)\n",
    "        node = node.next\n",
    "    return result"
   ]
  },
  {
   "cell_type": "markdown",
   "metadata": {},
   "source": [
    "## 21.合并两个有序链表"
   ]
  },
  {
   "cell_type": "code",
   "execution_count": null,
   "metadata": {},
   "outputs": [],
   "source": [
    "def mergeTwoLists(\n",
    "    list1: Optional[ListNode], list2: Optional[ListNode]\n",
    ") -> Optional[ListNode]:\n",
    "    p1, p2 = list1, list2\n",
    "    h = ListNode()\n",
    "    p = h\n",
    "    while p1 and p2:\n",
    "        if p1.val < p2.val:\n",
    "            p.next = p1\n",
    "            p1 = p1.next\n",
    "        else:\n",
    "            p.next = p2\n",
    "            p2 = p2.next\n",
    "        p = p.next\n",
    "    if p1:\n",
    "        p.next = p1\n",
    "    if p2:\n",
    "        p.next = p2\n",
    "    return h.next\n",
    "\n",
    "\n",
    "# Test cases\n",
    "list1 = create_linked_list([1, 2, 4])\n",
    "list2 = create_linked_list([1, 3, 4])\n",
    "\n",
    "merged_list = mergeTwoLists(list1, list2)\n",
    "print(linked_list_to_list(merged_list))  # Expected output: [1, 1, 2, 3, 4, 4]"
   ]
  },
  {
   "cell_type": "markdown",
   "metadata": {},
   "source": [
    "## 86.分隔链表"
   ]
  },
  {
   "cell_type": "code",
   "execution_count": null,
   "metadata": {},
   "outputs": [],
   "source": [
    "def partition(head: Optional[ListNode], x: int) -> Optional[ListNode]:\n",
    "    dumy1 = ListNode()\n",
    "    dumy2 = ListNode()\n",
    "    p1 = dumy1\n",
    "    p2 = dumy2\n",
    "    p = head\n",
    "    while p:\n",
    "        if p.val < x:\n",
    "            p1.next = p\n",
    "            p1 = p1.next\n",
    "        else:\n",
    "            p2.next = p\n",
    "            p2 = p2.next\n",
    "        # 断链\n",
    "        # 当需要将链表分隔成多个部分时，为了避免形成环或者错误的连接，需要断开当前节点的 next 指针。\n",
    "        t = p.next\n",
    "        p.next = None\n",
    "        p = t\n",
    "    p1.next = dumy2.next\n",
    "    return dumy1.next\n",
    "\n",
    "\n",
    "# Test cases\n",
    "list = create_linked_list([1, 4, 3, 2, 5, 2])\n",
    "x = 3\n",
    "res = partition(list, x)\n",
    "print(linked_list_to_list(res))  # Expected output: [1, 2, 2, 4, 3, 5]"
   ]
  },
  {
   "cell_type": "markdown",
   "metadata": {},
   "source": [
    "## 23.合并 K 个升序链表"
   ]
  },
  {
   "cell_type": "code",
   "execution_count": null,
   "metadata": {},
   "outputs": [],
   "source": [
    "def mergeKLists(lists: List[Optional[ListNode]]) -> Optional[ListNode]:\n",
    "    if not lists:\n",
    "        return None\n",
    "\n",
    "    def merge(lists: List[Optional[ListNode]], left: int, right: int):\n",
    "        if left == right:\n",
    "            return lists[left]\n",
    "        mid = (left + right) // 2\n",
    "        l = merge(lists, left, mid)\n",
    "        r = merge(lists, mid + 1, right)\n",
    "        return mergeTwoLists(l, r)\n",
    "\n",
    "    return merge(lists, 0, len(lists) - 1)\n",
    "\n",
    "\n",
    "# Test cases\n",
    "list1 = create_linked_list([1, 2, 4])\n",
    "list2 = create_linked_list([1, 3, 4])\n",
    "list3 = create_linked_list([1, 3, 6])\n",
    "\n",
    "merged_list = mergeKLists([list1, list2, list3])\n",
    "# Expected output: [1, 1, 1, 2, 3, 3, 4, 4, 6]\n",
    "print(linked_list_to_list(merged_list))"
   ]
  },
  {
   "cell_type": "markdown",
   "metadata": {},
   "source": [
    "## 19.删除链表的倒数第 N 个结点"
   ]
  },
  {
   "cell_type": "code",
   "execution_count": null,
   "metadata": {},
   "outputs": [],
   "source": [
    "def removeNthFromEnd(head: Optional[ListNode], n: int) -> Optional[ListNode]:\n",
    "    # 一个虚拟头节点的技巧，防止要删除头节点时出现空指针\n",
    "    dumy = ListNode(-1)\n",
    "    dumy.next = head\n",
    "    pre = findNthFromEnd(head, n + 1)\n",
    "    t = pre.next\n",
    "    pre.next = t.next\n",
    "    t.next = None\n",
    "    return dumy.next\n",
    "\n",
    "\n",
    "def findNthFromEnd(head: Optional[ListNode], n: int) -> Optional[ListNode]:\n",
    "    if not head:\n",
    "        return None\n",
    "    fast, slow = head, head\n",
    "    # 1 2 3 4 5\n",
    "    for _ in range(n):\n",
    "        fast = fast.next\n",
    "\n",
    "    while fast:\n",
    "        fast = fast.next\n",
    "        slow = slow.next\n",
    "    return slow\n",
    "\n",
    "\n",
    "# Test cases\n",
    "list = create_linked_list([1, 2, 4, 6, 3, 8])\n",
    "res = removeNthFromEnd(list, 3)\n",
    "# Expected output: [1, 2, 4, 3, 8]\n",
    "print(linked_list_to_list(res))"
   ]
  },
  {
   "cell_type": "markdown",
   "metadata": {},
   "source": [
    "## 876.链表的中间结点"
   ]
  },
  {
   "cell_type": "code",
   "execution_count": null,
   "metadata": {},
   "outputs": [],
   "source": [
    "def middleNode(head: Optional[ListNode]) -> Optional[ListNode]:\n",
    "    # 1 2 3 4 5\n",
    "    # 1 2 3 4 5 6\n",
    "    slow, fast = head, head\n",
    "    while fast and fast.next:\n",
    "        fast = fast.next.next\n",
    "        slow = slow.next\n",
    "    return slow\n",
    "\n",
    "\n",
    "# Test cases\n",
    "list1 = create_linked_list([1, 2, 4, 6, 3, 8])\n",
    "res1 = middleNode(list1)\n",
    "# Expected output: 6\n",
    "print(linked_list_to_list(res1)[0])\n",
    "\n",
    "list2 = create_linked_list([1, 2, 4, 3, 8])\n",
    "res2 = middleNode(list2)\n",
    "# Expected output: 4\n",
    "print(linked_list_to_list(res2)[0])"
   ]
  },
  {
   "cell_type": "markdown",
   "metadata": {},
   "source": [
    "## 141.环形链表"
   ]
  },
  {
   "cell_type": "code",
   "execution_count": null,
   "metadata": {},
   "outputs": [],
   "source": [
    "def hasCycle(head: Optional[ListNode]) -> bool:\n",
    "    fast, slow = head, head\n",
    "    while fast and fast.next:\n",
    "        fast = fast.next.next\n",
    "        slow = slow.next\n",
    "        if fast == slow:\n",
    "            return True\n",
    "    return False\n",
    "\n",
    "\n",
    "# Test cases\n",
    "list = create_linked_list([1, 2, 4, 6, 3, 8])\n",
    "res = hasCycle(list)\n",
    "# Expected output: False\n",
    "print(res)\n",
    "\n",
    "node1 = ListNode(1)\n",
    "node2 = ListNode(2)\n",
    "node3 = ListNode(3)\n",
    "node4 = ListNode(4)\n",
    "node1.next = node2\n",
    "node2.next = node3\n",
    "node3.next = node4\n",
    "node4.next = node2\n",
    "# Expected output: True\n",
    "print(hasCycle(node1))"
   ]
  },
  {
   "cell_type": "markdown",
   "metadata": {},
   "source": [
    "## 142.环形链表 II"
   ]
  },
  {
   "cell_type": "code",
   "execution_count": null,
   "metadata": {},
   "outputs": [],
   "source": [
    "def detectCycle(head: Optional[ListNode]) -> Optional[ListNode]:\n",
    "    slow, fast = head, head\n",
    "    while fast and fast.next:\n",
    "        fast = fast.next.next\n",
    "        slow = slow.next\n",
    "        if fast == slow:\n",
    "            break\n",
    "    slow = head\n",
    "    while slow != fast:\n",
    "        slow = slow.next\n",
    "        fast = fast.next\n",
    "    return slow\n",
    "\n",
    "\n",
    "# Test cases\n",
    "node1 = ListNode(1)\n",
    "node2 = ListNode(2)\n",
    "node3 = ListNode(3)\n",
    "node4 = ListNode(4)\n",
    "node1.next = node2\n",
    "node2.next = node3\n",
    "node3.next = node4\n",
    "node4.next = node2\n",
    "# Expected output: 2\n",
    "print(detectCycle(node1).val)"
   ]
  },
  {
   "cell_type": "markdown",
   "metadata": {},
   "source": [
    "## 160.相交链表"
   ]
  },
  {
   "cell_type": "code",
   "execution_count": null,
   "metadata": {},
   "outputs": [],
   "source": [
    "def getIntersectionNode(headA: ListNode, headB: ListNode) -> Optional[ListNode]:\n",
    "    p1, p2 = headA, headB\n",
    "    while p1 != p2:\n",
    "        p1 = p1.next if p1 else headB\n",
    "        p2 = p2.next if p2 else headA\n",
    "    return p1\n",
    "\n",
    "\n",
    "# Test cases\n",
    "list1 = create_linked_list([4, 2])\n",
    "list2 = create_linked_list([5, 6, 7])\n",
    "list3 = create_linked_list([1, 8, 4, 5])\n",
    "\n",
    "list1.next.next = list3\n",
    "list2.next.next.next = list3\n",
    "\n",
    "res = getIntersectionNode(list1, list2)\n",
    "# Expected output: 1\n",
    "print(res.val)"
   ]
  },
  {
   "cell_type": "markdown",
   "metadata": {},
   "source": [
    "## 83.删除排序链表中的重复元素"
   ]
  },
  {
   "cell_type": "code",
   "execution_count": null,
   "metadata": {},
   "outputs": [],
   "source": [
    "def deleteDuplicates(head: Optional[ListNode]) -> Optional[ListNode]:\n",
    "    slow = head\n",
    "    if not head or not head.next:\n",
    "        return slow\n",
    "    fast = slow.next\n",
    "    while fast:\n",
    "        if fast.val != slow.val:\n",
    "            slow.next = fast\n",
    "            slow = slow.next\n",
    "        fast = fast.next\n",
    "        \n",
    "    slow.next = None\n",
    "    return head\n",
    "        \n",
    "\n",
    "# Test cases\n",
    "list = create_linked_list([0, 0, 1, 1, 1, 2, 2, 3, 3, 4])\n",
    "res = deleteDuplicates(list)\n",
    "# Expected output: [0, 1, 2, 3, 4]\n",
    "print(linked_list_to_list(res))"
   ]
  },
  {
   "cell_type": "markdown",
   "metadata": {},
   "source": [
    "# 双指针数组技巧"
   ]
  },
  {
   "cell_type": "markdown",
   "metadata": {},
   "source": [
    "## 26.删除有序数组中的重复项"
   ]
  },
  {
   "cell_type": "code",
   "execution_count": null,
   "metadata": {},
   "outputs": [],
   "source": [
    "def removeDuplicates(nums: List[int]) -> int:\n",
    "    slow, fast = 0, 1\n",
    "    while fast < len(nums):\n",
    "        if nums[fast] != nums[slow]:\n",
    "            slow += 1\n",
    "            nums[slow] = nums[fast]\n",
    "        fast += 1\n",
    "    return slow + 1\n",
    "\n",
    "\n",
    "# Test cases\n",
    "list = [0, 0, 1, 1, 1, 2, 2, 3, 3, 4]\n",
    "# Expected output: 5\n",
    "print(removeDuplicates(list))\n",
    "print(list)"
   ]
  },
  {
   "cell_type": "markdown",
   "metadata": {},
   "source": [
    "## 27.移除元素"
   ]
  },
  {
   "cell_type": "code",
   "execution_count": null,
   "metadata": {},
   "outputs": [],
   "source": [
    "def removeElement(nums: List[int], val: int) -> int:\n",
    "    slow, fast = 0, 0\n",
    "    while fast < len(nums):\n",
    "        if nums[fast] != val:\n",
    "            nums[slow] = nums[fast]\n",
    "            slow += 1\n",
    "        fast += 1\n",
    "    return slow\n",
    "\n",
    "\n",
    "# Test cases\n",
    "list = [0, 1, 2, 2, 3, 0, 4, 2]\n",
    "# Expected output: 5\n",
    "print(removeElement(list, 2))\n",
    "print(list)"
   ]
  },
  {
   "cell_type": "markdown",
   "metadata": {},
   "source": [
    "## 283.移动零"
   ]
  },
  {
   "cell_type": "code",
   "execution_count": null,
   "metadata": {},
   "outputs": [],
   "source": [
    "def moveZeroes(nums: List[int]) -> None:\n",
    "    slow, fast = 0, 0\n",
    "    while fast < len(nums):\n",
    "        if nums[fast] != 0:\n",
    "            nums[fast], nums[slow] = nums[slow], nums[fast]\n",
    "            slow += 1\n",
    "        fast += 1\n",
    "\n",
    "\n",
    "# Test cases\n",
    "list = [0, 1, 2, 2, 3, 0, 4, 2]\n",
    "# Expected output: [1, 2, 2, 3, 4, 2, 0, 0]\n",
    "moveZeroes(list)\n",
    "print(list)"
   ]
  },
  {
   "cell_type": "markdown",
   "metadata": {},
   "source": [
    "## 167.两数之和 II - 输入有序数组"
   ]
  },
  {
   "cell_type": "code",
   "execution_count": null,
   "metadata": {},
   "outputs": [],
   "source": [
    "def twoSum(numbers: List[int], target: int) -> List[int]:\n",
    "    left, right = 0, len(numbers) - 1\n",
    "    while left < right:\n",
    "        res = numbers[left] + numbers[right]\n",
    "        if res == target:\n",
    "            return [left + 1, right + 1]\n",
    "        elif res < target:\n",
    "            left += 1\n",
    "        else:\n",
    "            right -= 1\n",
    "    return [0, 0]\n",
    "\n",
    "\n",
    "# Test cases\n",
    "list = [2, 7, 11, 15]\n",
    "# Expected output: [1, 2]\n",
    "print(twoSum(list, 9))"
   ]
  },
  {
   "cell_type": "markdown",
   "metadata": {},
   "source": [
    "## 344.反转字符串"
   ]
  },
  {
   "cell_type": "code",
   "execution_count": null,
   "metadata": {},
   "outputs": [],
   "source": [
    "def reverseString(s: List[str]) -> None:\n",
    "    left, right = 0, len(s) - 1\n",
    "    while left < right:\n",
    "        s[left], s[right] = s[right], s[left]\n",
    "        left += 1\n",
    "        right -= 1\n",
    "\n",
    "\n",
    "# Test cases\n",
    "list = [\"h\", \"e\", \"l\", \"l\", \"o\"]\n",
    "# Expected output: [\"o\",\"l\",\"l\",\"e\",\"h\"]\n",
    "reverseString(list)\n",
    "print(list)"
   ]
  },
  {
   "cell_type": "markdown",
   "metadata": {},
   "source": [
    "## 5.最长回文子串"
   ]
  },
  {
   "cell_type": "code",
   "execution_count": null,
   "metadata": {},
   "outputs": [],
   "source": [
    "def longestPalindrome(s: str) -> str:\n",
    "    res = ''\n",
    "    for i in range(len(s)):\n",
    "        s1 = palindrome(s, i, i)\n",
    "        s2 = palindrome(s, i, i + 1)\n",
    "        res = s1 if len(s1) > len(res) else res\n",
    "        res = s2 if len(s2) > len(res) else res\n",
    "    return res\n",
    "        \n",
    "\n",
    "\n",
    "def palindrome(s: str, l: int, r: int) -> str:\n",
    "    while l >= 0 and r < len(s) and s[l] == s[r]:\n",
    "        l -= 1\n",
    "        r += 1\n",
    "    return s[l + 1 : r]\n",
    "\n",
    "\n",
    "# Test cases\n",
    "s1 = \"babad\"\n",
    "# Expected output: bab | aba\n",
    "print(longestPalindrome(s1))\n",
    "s2 = \"cbbd\"\n",
    "# Expected output: bb\n",
    "print(longestPalindrome(s2))"
   ]
  },
  {
   "cell_type": "markdown",
   "metadata": {},
   "source": [
    "# 滑动窗口\n",
    "\n",
    "滑动窗口可以归为快慢双指针，一快一慢两个指针前后相随，中间的部分就是窗口。滑动窗口算法技巧主要用来解决子数组问题，比如让你寻找符合某个条件的最长/最短子数组"
   ]
  },
  {
   "cell_type": "code",
   "execution_count": null,
   "metadata": {},
   "outputs": [],
   "source": [
    "# 滑动窗口算法伪码框架\n",
    "def slidingWindow(s: str):\n",
    "    # 用合适的数据结构记录窗口中的数据，根据具体场景变通\n",
    "    # 比如说，我想记录窗口中元素出现的次数，就用 map\n",
    "    # 如果我想记录窗口中的元素和，就可以只用一个 int\n",
    "    window = ...\n",
    "\n",
    "    left, right = 0, 0\n",
    "    while right < len(s):\n",
    "        # c 是将移入窗口的字符\n",
    "        c = s[right]\n",
    "        window.add(c)\n",
    "        # 增大窗口\n",
    "        right += 1\n",
    "        # 进行窗口内数据的一系列更新\n",
    "        ...\n",
    "\n",
    "        # *** debug 输出的位置 ***\n",
    "        # 注意在最终的解法代码中不要 print\n",
    "        # 因为 IO 操作很耗时，可能导致超时\n",
    "        # print(f\"window: [{left}, {right})\")\n",
    "        # ***********************\n",
    "\n",
    "        # 判断左侧窗口是否要收缩\n",
    "        while left < right:  # and window needs shrink\n",
    "            # d 是将移出窗口的字符\n",
    "            d = s[left]\n",
    "            window.remove(d)\n",
    "            # 缩小窗口\n",
    "            left += 1\n",
    "            # 进行窗口内数据的一系列更新\n",
    "            ...\n",
    "\n",
    "# 框架\n",
    "# def findSubstring(s):\n",
    "#     N = len(s) # 数组/字符串长度\n",
    "#     left, right = 0, 0 # 双指针，表示当前遍历的区间[left, right]，闭区间\n",
    "#     counter = Counter() # 用于统计 子数组/子区间 是否有效\n",
    "#     res = 0 # 保存最大的满足题目要求的 子数组/子串 长度\n",
    "#     while right < N: # 当右边的指针没有搜索到 数组/字符串 的结尾\n",
    "#         counter[s[right]] += 1 # 增加当前右边指针的数字/字符的计数\n",
    "#         while 区间[left, right]不符合题意：# 此时需要一直移动左指针，直至找到一个符合题意的区间\n",
    "#             counter[s[left]] -= 1 # 移动左指针前需要从counter中减少left位置字符的计数\n",
    "#             left += 1 # 真正的移动左指针，注意不能跟上面一行代码写反\n",
    "#         # 到 while 结束时，我们找到了一个符合题意要求的 子数组/子串\n",
    "#         res = max(res, right - left + 1) # 需要更新结果\n",
    "#         right += 1 # 移动右指针，去探索新的区间\n",
    "#     return res"
   ]
  },
  {
   "cell_type": "markdown",
   "metadata": {},
   "source": [
    "## 209.长度最小的子数组"
   ]
  },
  {
   "cell_type": "code",
   "execution_count": null,
   "metadata": {},
   "outputs": [],
   "source": [
    "def minSubArrayLen(target: int, nums: List[int]) -> int:\n",
    "    pass\n",
    "\n",
    "\n",
    "# Expected output: 2\n",
    "print(minSubArrayLen(7, [2, 3, 1, 2, 4, 3]))"
   ]
  },
  {
   "cell_type": "markdown",
   "metadata": {},
   "source": [
    "## 76.最小覆盖子串"
   ]
  },
  {
   "cell_type": "code",
   "execution_count": null,
   "metadata": {},
   "outputs": [],
   "source": [
    "def minWindow(s: str, t: str) -> str:\n",
    "    pass\n",
    "\n",
    "\n",
    "# Expected output: BANC\n",
    "print(minWindow(\"ADOBECODEBANC\", \"ABC\"))"
   ]
  },
  {
   "cell_type": "markdown",
   "metadata": {},
   "source": [
    "## 567.字符串的排列"
   ]
  },
  {
   "cell_type": "code",
   "execution_count": null,
   "metadata": {},
   "outputs": [],
   "source": [
    "def checkInclusion(s1: str, s2: str) -> bool:\n",
    "    pass"
   ]
  },
  {
   "cell_type": "markdown",
   "metadata": {},
   "source": [
    "## 3.无重复字符的最长子串"
   ]
  },
  {
   "cell_type": "code",
   "execution_count": null,
   "metadata": {},
   "outputs": [],
   "source": [
    "def lengthOfLongestSubstring(s: str) -> int:\n",
    "    pass\n",
    "\n",
    "\n",
    "# Expected output: 3\n",
    "print(lengthOfLongestSubstring(\"abcabcbb\"))\n",
    "# Expected output: 1\n",
    "print(lengthOfLongestSubstring(\"bbbbbb\"))\n",
    "# Expected output: 3\n",
    "print(lengthOfLongestSubstring(\"pwwkew\"))"
   ]
  },
  {
   "cell_type": "markdown",
   "metadata": {},
   "source": [
    "## 1004.最大连续1的个数 III"
   ]
  },
  {
   "cell_type": "code",
   "execution_count": null,
   "metadata": {},
   "outputs": [],
   "source": [
    "def longestOnes(nums: List[int], k: int) -> int:\n",
    "    pass\n",
    "\n",
    "\n",
    "# Expected output: 10\n",
    "print(longestOnes([0, 0, 1, 1, 0, 0, 1, 1, 1, 0, 1, 1, 0, 0, 0, 1, 1, 1, 1], 3))"
   ]
  },
  {
   "cell_type": "markdown",
   "metadata": {},
   "source": [
    "## 424.替换后的最长重复字符"
   ]
  },
  {
   "cell_type": "code",
   "execution_count": null,
   "metadata": {},
   "outputs": [],
   "source": [
    "def characterReplacement(s: str, k: int) -> int:\n",
    "    pass\n",
    "\n",
    "\n",
    "# Expected output: 4\n",
    "print(characterReplacement(\"AABABBA\", 1))\n",
    "\n",
    "# Expected output: 4\n",
    "print(characterReplacement(\"ABAB\", 2))"
   ]
  },
  {
   "cell_type": "markdown",
   "metadata": {},
   "source": [
    "## 187.重复的DNA序列"
   ]
  },
  {
   "cell_type": "code",
   "execution_count": null,
   "metadata": {},
   "outputs": [],
   "source": [
    "from typing import List\n",
    "\n",
    "\n",
    "def findRepeatedDnaSequences(s: str) -> List[str]:\n",
    "    pass\n",
    "\n",
    "\n",
    "# Expected output: [\"AAAAACCCCC\",\"CCCCCAAAAA\"]\n",
    "print(findRepeatedDnaSequences(\"AAAAACCCCCAAAAACCCCCCAAAAAGGGTTT\"))\n",
    "\n",
    "# Expected output: [\"AAAAAAAAAA\"]\n",
    "print(findRepeatedDnaSequences(\"AAAAAAAAAAAAA\"))\n",
    "\n",
    "# Expected output: [\"AAAAAAAAAA\"]\n",
    "print(findRepeatedDnaSequences(\"AAAAAAAAAAA\"))"
   ]
  },
  {
   "cell_type": "markdown",
   "metadata": {},
   "source": [
    "# 递归"
   ]
  },
  {
   "cell_type": "code",
   "execution_count": null,
   "metadata": {},
   "outputs": [],
   "source": [
    "from typing import Optional, List\n",
    "\n",
    "\n",
    "class TreeNode:\n",
    "    def __init__(self, val=0, left=None, right=None):\n",
    "        self.val = val\n",
    "        self.left = left\n",
    "        self.right = right\n",
    "\n",
    "\n",
    "# Helper function to create a binary tree from a list\n",
    "def create_binary_tree(values: List[Optional[int]]) -> Optional[TreeNode]:\n",
    "    if not values:\n",
    "        return None\n",
    "    nodes = [TreeNode(val) if val is not None else None for val in values]\n",
    "    kids = nodes[::-1]\n",
    "    root = kids.pop()\n",
    "    for node in nodes:\n",
    "        if node:\n",
    "            if kids:\n",
    "                node.left = kids.pop()\n",
    "            if kids:\n",
    "                node.right = kids.pop()\n",
    "    return root\n",
    "\n",
    "\n",
    "# Helper function to convert a binary tree to a list (level-order traversal)\n",
    "def binary_tree_to_list(root: Optional[TreeNode]) -> List[Optional[int]]:\n",
    "    if not root:\n",
    "        return []\n",
    "    result = []\n",
    "    queue = [root]\n",
    "    while queue:\n",
    "        node = queue.pop(0)\n",
    "        if node:\n",
    "            result.append(node.val)\n",
    "            queue.append(node.left)\n",
    "            queue.append(node.right)\n",
    "        else:\n",
    "            result.append(None)\n",
    "    # Remove trailing None values\n",
    "    while result and result[-1] is None:\n",
    "        result.pop()\n",
    "    return result"
   ]
  },
  {
   "cell_type": "markdown",
   "metadata": {},
   "source": [
    "## 104.二叉树的最大深度"
   ]
  },
  {
   "cell_type": "code",
   "execution_count": null,
   "metadata": {},
   "outputs": [],
   "source": [
    "def maxDepth(root: Optional[TreeNode]) -> int:\n",
    "    pass\n",
    "\n",
    "\n",
    "node = create_binary_tree([3, 9, 20, None, None, 15, 7])\n",
    "# Expected output: 3\n",
    "print(maxDepth(node))"
   ]
  },
  {
   "cell_type": "markdown",
   "metadata": {},
   "source": [
    "# 动态规划"
   ]
  },
  {
   "cell_type": "markdown",
   "metadata": {},
   "source": [
    "## 322.零钱兑换"
   ]
  },
  {
   "cell_type": "code",
   "execution_count": null,
   "metadata": {},
   "outputs": [],
   "source": [
    "from typing import List\n",
    "\n",
    "\n",
    "def coinChange(coins: List[int], amount: int) -> int:\n",
    "    pass\n",
    "\n",
    "\n",
    "# Expected output: 20\n",
    "print(coinChange([1, 2, 5], 30))"
   ]
  },
  {
   "cell_type": "markdown",
   "metadata": {},
   "source": [
    "# 回溯"
   ]
  },
  {
   "cell_type": "markdown",
   "metadata": {},
   "source": [
    "## 46.全排列"
   ]
  },
  {
   "cell_type": "code",
   "execution_count": null,
   "metadata": {},
   "outputs": [],
   "source": [
    "from typing import List\n",
    "\n",
    "\n",
    "def permute(nums: List[int]) -> List[List[int]]:\n",
    "    pass\n",
    "\n",
    "\n",
    "# Expected output: [[1,2,3],[1,3,2],[2,1,3],[2,3,1],[3,1,2],[3,2,1]]\n",
    "print(permute([1, 2, 3]))"
   ]
  },
  {
   "cell_type": "markdown",
   "metadata": {},
   "source": [
    "47.全排列 II"
   ]
  },
  {
   "cell_type": "code",
   "execution_count": null,
   "metadata": {},
   "outputs": [],
   "source": [
    "def permuteUnique(nums: List[int]) -> List[List[int]]:\n",
    "    pass\n",
    "\n",
    "\n",
    "# Expected output: [[1,2,3],[1,3,2],[2,1,3],[2,3,1],[3,1,2],[3,2,1]]\n",
    "print(permuteUnique([1, 2, 3]))\n",
    "\n",
    "# Expected output: [[1,1,2],[1,2,1],[2,1,1]]\n",
    "print(permuteUnique([1, 1, 2]))"
   ]
  },
  {
   "cell_type": "markdown",
   "metadata": {},
   "source": [
    "39.组合总和"
   ]
  },
  {
   "cell_type": "code",
   "execution_count": null,
   "metadata": {},
   "outputs": [],
   "source": [
    "def combinationSum(candidates: List[int], target: int) -> List[List[int]]:\n",
    "    pass\n",
    "\n",
    "\n",
    "# Expected output: [[2,2,3], [7]]\n",
    "print(combinationSum([2, 3, 6, 7], 7))"
   ]
  },
  {
   "cell_type": "markdown",
   "metadata": {},
   "source": [
    "40.组合总和 II"
   ]
  },
  {
   "cell_type": "code",
   "execution_count": null,
   "metadata": {},
   "outputs": [],
   "source": [
    "def combinationSum2(candidates: List[int], target: int) -> List[List[int]]:\n",
    "    pass\n",
    "\n",
    "\n",
    "# Expected output: [[1,2,2],[5]]\n",
    "print(combinationSum2([2, 5, 2, 1, 2], 5))"
   ]
  },
  {
   "cell_type": "markdown",
   "metadata": {},
   "source": [
    "216.组合总和 III"
   ]
  },
  {
   "cell_type": "code",
   "execution_count": null,
   "metadata": {},
   "outputs": [],
   "source": [
    "def combinationSum3(k: int, n: int) -> List[List[int]]:\n",
    "    pass\n",
    "\n",
    "\n",
    "# Expected output: [[1,2,4]]\n",
    "print(combinationSum3(3, 7))\n",
    "# Expected output: [[1,2,6], [1,3,5], [2,3,4]]\n",
    "print(combinationSum3(3, 9))"
   ]
  },
  {
   "cell_type": "markdown",
   "metadata": {},
   "source": [
    "77.组合"
   ]
  },
  {
   "cell_type": "code",
   "execution_count": null,
   "metadata": {},
   "outputs": [],
   "source": [
    "res = []\n",
    "\n",
    "\n",
    "def combine(n: int, k: int) -> List[List[int]]:\n",
    "    pass\n",
    "\n",
    "\n",
    "# Expected output: [[1,2], [1,3], [1,4], [2,3], [2,4], [3, 4]]\n",
    "print(combine(4, 2))"
   ]
  },
  {
   "cell_type": "markdown",
   "metadata": {},
   "source": [
    "78.子集"
   ]
  },
  {
   "cell_type": "code",
   "execution_count": null,
   "metadata": {},
   "outputs": [],
   "source": [
    "res = []\n",
    "\n",
    "\n",
    "def subsets(nums: List[int]) -> List[List[int]]:\n",
    "    pass\n",
    "\n",
    "\n",
    "# Expected output: [[],[1],[2],[1,2],[3],[1,3],[2,3],[1,2,3]]\n",
    "print(subsets([1, 2, 3]))"
   ]
  },
  {
   "cell_type": "markdown",
   "metadata": {},
   "source": [
    "90.子集 II"
   ]
  },
  {
   "cell_type": "code",
   "execution_count": null,
   "metadata": {},
   "outputs": [],
   "source": [
    "def subsetsWithDup(nums: List[int]) -> List[List[int]]:\n",
    "    pass\n",
    "\n",
    "\n",
    "# Expected output: [[],[1],[1,2],[1,2,2],[2],[2,2]]\n",
    "print(subsetsWithDup([1, 2, 2]))"
   ]
  },
  {
   "cell_type": "markdown",
   "metadata": {},
   "source": [
    "# BFS"
   ]
  },
  {
   "cell_type": "markdown",
   "metadata": {},
   "source": [
    "## 752.打开转盘锁"
   ]
  },
  {
   "cell_type": "code",
   "execution_count": null,
   "metadata": {},
   "outputs": [],
   "source": [
    "from collections import deque\n",
    "\n",
    "\n",
    "def openLock(deadends: List[str], target: str) -> int:\n",
    "    pass\n",
    "\n",
    "\n",
    "# Expected output: 1\n",
    "print(openLock([\"8888\"], \"0009\"))\n",
    "\n",
    "# Expected output: 6\n",
    "print(openLock([\"0201\", \"0101\", \"0102\", \"1212\", \"2002\"], \"0202\"))\n",
    "\n",
    "# Expected output: -1\n",
    "print(\n",
    "    openLock([\"8887\", \"8889\", \"8878\", \"8898\", \"8788\", \"8988\", \"7888\", \"9888\"], \"8888\")\n",
    ")"
   ]
  },
  {
   "cell_type": "markdown",
   "metadata": {},
   "source": [
    "## 773.滑动谜题"
   ]
  },
  {
   "cell_type": "code",
   "execution_count": null,
   "metadata": {},
   "outputs": [],
   "source": [
    "from typing import List\n",
    "from collections import deque\n",
    "\n",
    "\n",
    "def slidingPuzzle(board: List[List[int]]) -> int:\n",
    "    pass\n",
    "\n",
    "\n",
    "# Expected output: 1\n",
    "print(slidingPuzzle([[1, 2, 3], [4, 0, 5]]))\n",
    "\n",
    "# Expected output: -1\n",
    "print(slidingPuzzle([[1, 2, 3], [5, 4, 0]]))\n",
    "\n",
    "# Expected output: 5\n",
    "print(slidingPuzzle([[4, 1, 2], [5, 0, 3]]))"
   ]
  },
  {
   "cell_type": "markdown",
   "metadata": {},
   "source": [
    "# 二叉树\n",
    "\n",
    "动归/DFS/回溯算法都可以看做二叉树问题的扩展，只是它们的关注点不同：\n",
    "\n",
    "- 动态规划算法属于分解问题（分治）的思路，它的关注点在整棵「子树」。\n",
    "- 回溯算法属于遍历的思路，它的关注点在节点间的「树枝」。\n",
    "- DFS 算法属于遍历的思路，它的关注点在单个「节点」。"
   ]
  },
  {
   "cell_type": "code",
   "execution_count": null,
   "metadata": {},
   "outputs": [],
   "source": [
    "# 定义：输入一棵二叉树，返回这棵二叉树的节点总数\n",
    "def count(root):\n",
    "    if root is None:\n",
    "        return 0\n",
    "    # 当前节点关心的是两个子树的节点总数分别是多少\n",
    "    # 因为用子问题的结果可以推导出原问题的结果\n",
    "    leftCount = count(root.left)\n",
    "    rightCount = count(root.right)\n",
    "    # 后序位置，左右子树节点数加上自己就是整棵树的节点数\n",
    "    return leftCount + rightCount + 1\n",
    "\n",
    "\n",
    "# DFS 算法把「做选择」「撤销选择」的逻辑放在 for 循环外面\n",
    "def dfs(root):\n",
    "    if root is None:\n",
    "        return\n",
    "    # 做选择\n",
    "    print(\"enter node %s\" % root)\n",
    "    for child in root.children:\n",
    "        dfs(child)\n",
    "    # 撤销选择\n",
    "    print(\"leave node %s\" % root)\n",
    "\n",
    "\n",
    "# 回溯算法把「做选择」「撤销选择」的逻辑放在 for 循环里面\n",
    "def backtrack(root):\n",
    "    if root is None:\n",
    "        return\n",
    "    for child in root.children:\n",
    "        # 做选择\n",
    "        print(\"I'm on the branch from %s to %s\" % (root, child))\n",
    "        backtrack(child)\n",
    "        # 撤销选择\n",
    "        print(\"I'll leave the branch from %s to %s\" % (child, root))"
   ]
  },
  {
   "cell_type": "code",
   "execution_count": null,
   "metadata": {},
   "outputs": [],
   "source": [
    "from typing import Optional, List\n",
    "\n",
    "\n",
    "class TreeNode:\n",
    "    def __init__(self, val=0, left=None, right=None):\n",
    "        self.val = val\n",
    "        self.left = left\n",
    "        self.right = right\n",
    "\n",
    "\n",
    "# Helper function to create a binary tree from a list\n",
    "def create_binary_tree(values: List[Optional[int]]) -> Optional[TreeNode]:\n",
    "    if not values:\n",
    "        return None\n",
    "    nodes = [TreeNode(val) if val is not None else None for val in values]\n",
    "    kids = nodes[::-1]\n",
    "    root = kids.pop()\n",
    "    for node in nodes:\n",
    "        if node:\n",
    "            if kids:\n",
    "                node.left = kids.pop()\n",
    "            if kids:\n",
    "                node.right = kids.pop()\n",
    "    return root\n",
    "\n",
    "\n",
    "# Helper function to convert a binary tree to a list (level-order traversal)\n",
    "def binary_tree_to_list(root: Optional[TreeNode]) -> List[Optional[int]]:\n",
    "    if not root:\n",
    "        return []\n",
    "    result = []\n",
    "    queue = [root]\n",
    "    while queue:\n",
    "        node = queue.pop(0)\n",
    "        if node:\n",
    "            result.append(node.val)\n",
    "            queue.append(node.left)\n",
    "            queue.append(node.right)\n",
    "        else:\n",
    "            result.append(None)\n",
    "    # Remove trailing None values\n",
    "    while result and result[-1] is None:\n",
    "        result.pop()\n",
    "    return result"
   ]
  },
  {
   "cell_type": "markdown",
   "metadata": {},
   "source": [
    "## 144.二叉树的前序遍历"
   ]
  },
  {
   "cell_type": "code",
   "execution_count": null,
   "metadata": {},
   "outputs": [],
   "source": [
    "def preorderTraversal(root: Optional[TreeNode]) -> List[int]:\n",
    "    pass\n",
    "\n",
    "\n",
    "n = create_binary_tree([1, 2, 3, 4, 5, None, 8, None, None, 6, 7, 9])\n",
    "# Expected output: [1,2,4,5,6,7,3,8,9]\n",
    "print(preorderTraversal(n))"
   ]
  },
  {
   "cell_type": "markdown",
   "metadata": {},
   "source": [
    "## 543.二叉树的直径"
   ]
  },
  {
   "cell_type": "code",
   "execution_count": null,
   "metadata": {},
   "outputs": [],
   "source": [
    "def diameterOfBinaryTree(root: Optional[TreeNode]) -> int:\n",
    "    pass\n",
    "\n",
    "\n",
    "n = create_binary_tree([1, 2, 3, 4, 5])\n",
    "# Expected output: 3\n",
    "print(diameterOfBinaryTree(n))"
   ]
  },
  {
   "cell_type": "markdown",
   "metadata": {},
   "source": [
    "# 贪心算法"
   ]
  },
  {
   "cell_type": "markdown",
   "metadata": {},
   "source": [
    "## 55.跳跃游戏"
   ]
  },
  {
   "cell_type": "code",
   "execution_count": null,
   "metadata": {},
   "outputs": [],
   "source": [
    "def canJump(nums: List[int]) -> bool:\n",
    "    pass\n",
    "\n",
    "\n",
    "# Expected output: True\n",
    "print(canJump([2, 3, 1, 1, 4]))\n",
    "\n",
    "# Expected output: False\n",
    "print(canJump([3, 2, 1, 0, 4]))\n",
    "\n",
    "# Expected output: True\n",
    "print(canJump([0]))"
   ]
  },
  {
   "cell_type": "markdown",
   "metadata": {},
   "source": [
    "## 45.跳跃游戏 II"
   ]
  },
  {
   "cell_type": "code",
   "execution_count": null,
   "metadata": {},
   "outputs": [],
   "source": [
    "def jump(nums: List[int]) -> int:\n",
    "    pass\n",
    "\n",
    "# Expected output: 2\n",
    "print(jump([2, 3, 1, 1, 4]))"
   ]
  },
  {
   "cell_type": "markdown",
   "metadata": {},
   "source": [
    "## 763.划分字母区间"
   ]
  },
  {
   "cell_type": "code",
   "execution_count": null,
   "metadata": {},
   "outputs": [],
   "source": [
    "def partitionLabels(s: str) -> List[int]:\n",
    "    pass\n",
    "        \n",
    "\n",
    "\n",
    "# Expected output: [9,7,8]\n",
    "print(partitionLabels(\"ababcbacadefegdehijhklij\"))"
   ]
  },
  {
   "cell_type": "markdown",
   "metadata": {},
   "source": [
    "## 121.买卖股票的最佳时机"
   ]
  },
  {
   "cell_type": "code",
   "execution_count": null,
   "metadata": {},
   "outputs": [],
   "source": [
    "def maxProfit(self, prices: List[int]) -> int:\n",
    "    pass"
   ]
  },
  {
   "cell_type": "code",
   "execution_count": null,
   "metadata": {},
   "outputs": [],
   "source": [
    "dict = {\"c\" : 1, \"b\" : 2}\n",
    "print(min(dict.values()))"
   ]
  },
  {
   "cell_type": "markdown",
   "metadata": {},
   "source": [
    "# 栈与队列"
   ]
  },
  {
   "cell_type": "markdown",
   "metadata": {},
   "source": [
    "## 394.字符串解码"
   ]
  },
  {
   "cell_type": "code",
   "execution_count": null,
   "metadata": {},
   "outputs": [],
   "source": [
    "def decodeString(s: str) -> str:\n",
    "    pass"
   ]
  },
  {
   "cell_type": "code",
   "execution_count": null,
   "metadata": {},
   "outputs": [],
   "source": [
    "# Expected output: \"aaabcbc\"\n",
    "print(decodeString(\"3[a]2[bc]\"))\n",
    "\n",
    "# Expected output: \"accaccacc\"\n",
    "print(decodeString(\"3[a2[c]]\"))\n",
    "\n",
    "# Expected output: \"aaaaaaaaaabcbc\"\n",
    "print(decodeString(\"10[a]2[bc]\"))"
   ]
  }
 ],
 "metadata": {
  "kernelspec": {
   "display_name": "Python 3",
   "language": "python",
   "name": "python3"
  },
  "language_info": {
   "codemirror_mode": {
    "name": "ipython",
    "version": 3
   },
   "file_extension": ".py",
   "mimetype": "text/x-python",
   "name": "python",
   "nbconvert_exporter": "python",
   "pygments_lexer": "ipython3",
   "version": "3.13.2"
  }
 },
 "nbformat": 4,
 "nbformat_minor": 2
}
