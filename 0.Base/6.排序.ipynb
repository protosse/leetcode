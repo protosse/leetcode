{
 "cells": [
  {
   "cell_type": "markdown",
   "metadata": {},
   "source": [
    "## 选择排序\n",
    "\n",
    "选择排序是最简单朴素的排序算法，但是时间复杂度较高 $O(N^2)$，且不是稳定排序。其他基础排序算法都是基于选择排序的优化"
   ]
  },
  {
   "cell_type": "code",
   "execution_count": null,
   "metadata": {},
   "outputs": [],
   "source": [
    "from typing import List\n",
    "\n",
    "\n",
    "def sort(nums: List[int]) -> None:\n",
    "    \"\"\" 思路就是先遍历一遍数组，找到数组中的最小值，然后把它和数组的第一个元素交换位置；\n",
    "    接着再遍历一遍数组，找到第二小的元素，和数组的第二个元素交换位置；\n",
    "    以此类推，直到整个数组有序\n",
    "    \"\"\"\n",
    "    for i in range(len(nums)):\n",
    "        min_idx = i\n",
    "        for j in range(i + 1, len(nums)):\n",
    "            if nums[j] < nums[min_idx]:\n",
    "                min_idx = j\n",
    "        nums[i], nums[min_idx] = nums[min_idx], nums[i]"
   ]
  },
  {
   "cell_type": "markdown",
   "metadata": {},
   "source": [
    "## 冒泡排序\n",
    "\n",
    "冒泡排序是对选择排序的一种优化，是一种稳定排序算法\n",
    "\n",
    "选择排序为什么不稳定了，原因就在交换过程中，改变了元素的相对顺序\n",
    "\n",
    "```\n",
    "[2, 2', 2'', 1, 1'] \n",
    " ^           ^\n",
    "[1, 2', 2'', 2, 1']\n",
    "```\n",
    "\n",
    "一个优化就是不直接交换，而是将后面的元素整体整体向后移动一位\n",
    "\n",
    "```\n",
    "[2, 2', 2'', 1, 1']\n",
    " ^           ^\n",
    "[1, 2', 2'', _, 1']\n",
    " ^           ^\n",
    "[1, _, 2', 2'', 1']\n",
    " ^           ^\n",
    "[1, 2, 2', 2'', 1']\n",
    " ^           ^\n",
    "sortedIndex  minIndex\n",
    "``` \n",
    "\n",
    "再进一步优化，在寻找这个最小值的时候，就一直移动它，最后就把它放在正确的位置上，这就是冒泡排序了"
   ]
  },
  {
   "cell_type": "code",
   "execution_count": 13,
   "metadata": {},
   "outputs": [
    {
     "name": "stdout",
     "output_type": "stream",
     "text": [
      "[0, 1, 2, 3, 4, 5]\n"
     ]
    }
   ],
   "source": [
    "from typing import List\n",
    "\n",
    "\n",
    "def sort(nums: List[int]) -> None:\n",
    "    \"\"\"冒泡排序的思路是从尾到头依次比较相邻的两个元素，如果后面的元素比前面的元素小，就交换它们的位置；\n",
    "    这样一趟下来，最小的元素就被交换到了最前的位置；\n",
    "    然后再从尾到头（未排序的那个起始位置）进行下一趟比较，直到整个数组有序\n",
    "    \"\"\"\n",
    "\n",
    "    n = len(nums)\n",
    "    for i in range(n - 1, -1, -1):\n",
    "        swaped = False\n",
    "        for j in range(n - 1, n - i - 1, -1):\n",
    "            if nums[j] < nums[j - 1]:\n",
    "                nums[j], nums[j - 1] = nums[j - 1], nums[j]\n",
    "                swaped = True\n",
    "        # 优化，如果一次交换操作都没有进行，说明数组已经有序，可以提前终止算法\n",
    "        if not swaped:\n",
    "            break\n",
    "\n",
    "    # 当然，从头到尾遍历然后把最大的元素放到最后也是可以的\n",
    "    # for i in range(n):\n",
    "    #     for j in range(n - i - 1):\n",
    "    #         if nums[j] > nums[j + 1]:\n",
    "    #             nums[j], nums[j + 1] = nums[j + 1], nums[j]\n",
    "\n",
    "\n",
    "nums = [0,1,2,4,5,3]\n",
    "sort(nums)\n",
    "print(nums)"
   ]
  },
  {
   "cell_type": "markdown",
   "metadata": {},
   "source": [
    "## 插入排序\n",
    "\n",
    "插入排序也是对选择排序的一种优化，冒泡排序的优化是用一个冒泡的方式，逐步交换最小值或最大值，把值放到最终的位置上\n",
    "\n",
    "插入排序的优化是，在 nums[0..sortedIndex-1] 这个部分有序的数组中，找到 nums[sortedIndex] 应该插入的位置，然后进行插入\n",
    "\n",
    "插入排序的效率和输入数组的有序度有很大关系，如果输入数组已经有序，或者仅有个别元素逆序，那么插入排序的内层 for 循环几乎不需要执行元素交换，所以时间复杂度接近 O(n)\n",
    "\n",
    "如果输入的数组是完全逆序的，那么插入排序的效率就会很低，内层循环对每个元素都要进行交换，算法的总时间复杂度就接近 $O(n^2)$。\n",
    "\n",
    "如果对比插入排序和冒泡排序，插入排序的综合性能应该要高于冒泡排序。"
   ]
  },
  {
   "cell_type": "code",
   "execution_count": 15,
   "metadata": {},
   "outputs": [
    {
     "name": "stdout",
     "output_type": "stream",
     "text": [
      "[5, 6, 11, 12, 13]\n"
     ]
    }
   ],
   "source": [
    "from typing import List\n",
    "\n",
    "\n",
    "def sort(nums: List[int]) -> None:\n",
    "    \"\"\"插入排序的思路是从第二个元素开始，依次将每个元素插入到前面已经有序的部分中，使整个数组有序\"\"\"\n",
    "    for i in range(1, len(nums)):\n",
    "        key = nums[i]\n",
    "        j = i - 1\n",
    "        while j >= 0 and key < nums[j]:\n",
    "            nums[j + 1] = nums[j]\n",
    "            j -= 1\n",
    "        nums[j + 1] = key\n",
    "\n",
    "\n",
    "nums = [12, 11, 13, 5, 6]\n",
    "sort(nums)\n",
    "print(nums)"
   ]
  },
  {
   "cell_type": "markdown",
   "metadata": {},
   "source": [
    "## 希尔排序"
   ]
  }
 ],
 "metadata": {
  "kernelspec": {
   "display_name": "Python 3",
   "language": "python",
   "name": "python3"
  },
  "language_info": {
   "codemirror_mode": {
    "name": "ipython",
    "version": 3
   },
   "file_extension": ".py",
   "mimetype": "text/x-python",
   "name": "python",
   "nbconvert_exporter": "python",
   "pygments_lexer": "ipython3",
   "version": "3.13.2"
  }
 },
 "nbformat": 4,
 "nbformat_minor": 2
}
