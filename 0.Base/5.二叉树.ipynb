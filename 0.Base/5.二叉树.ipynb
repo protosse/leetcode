{
 "cells": [
  {
   "cell_type": "markdown",
   "metadata": {},
   "source": [
    "## 二叉树的前、中、后序遍历\n",
    "\n",
    "所谓的前中后序遍历，其实就是在二叉树遍历框架的不同位置写代码\n",
    "\n",
    "- 前序位置的代码会在进入一个二叉树节点时立即执行\n",
    "- 中序位置的代码在一个二叉树节点左子树都遍历完，即将开始遍历右子树的时候执行\n",
    "- 后序位置的代码会在离开一个二叉树节点的时候执行\n",
    "\n",
    "![traverse](./image/traverse.excalidraw.png)\n",
    "\n",
    "你可以发现每个节点都有「唯一」属于自己的前中后序位置，所以前中后序遍历其实是遍历二叉树过程中处理每一个节点的三个特殊时间点\n",
    "\n",
    "这里你也可以理解为什么多叉树没有中序位置，因为二叉树的每个节点只会进行唯一一次左子树切换右子树，而多叉树节点可能有很多子节点，会多次切换子树去遍历，所以多叉树节点没有「唯一」的中序遍历位置。"
   ]
  },
  {
   "cell_type": "code",
   "execution_count": null,
   "metadata": {},
   "outputs": [],
   "source": [
    "# 二叉树的遍历框架\n",
    "def traverse(root):\n",
    "    if root is None:\n",
    "        return\n",
    "    # 前序位置\n",
    "    traverse(root.left)\n",
    "    # 中序位置\n",
    "    traverse(root.right)\n",
    "    # 后序位置"
   ]
  },
  {
   "cell_type": "markdown",
   "metadata": {},
   "source": [
    "## 二叉树的层序遍历\n",
    "\n",
    "二叉树的层序遍历，顾名思义，就是一层一层地遍历二叉树。这个遍历方式需要借助队列来实现，而且根据不同的需求，主要有三种不同的写法\n"
   ]
  },
  {
   "cell_type": "code",
   "execution_count": null,
   "metadata": {},
   "outputs": [],
   "source": [
    "from typing import Optional, Self\n",
    "\n",
    "\n",
    "class TreeNode:\n",
    "    def __init__(self, x: int):\n",
    "        self.val = x\n",
    "        self.left: Optional[Self] = None\n",
    "        self.right: Optional[Self] = None"
   ]
  },
  {
   "cell_type": "code",
   "execution_count": null,
   "metadata": {},
   "outputs": [],
   "source": [
    "from collections import deque\n",
    "\n",
    "\n",
    "def levelOrderTraverse(root: TreeNode):\n",
    "    \"\"\"这种写法最大的优势就是简单。每次把队头元素拿出来，然后把它的左右子节点加入队列，就完事了。\n",
    "    但是这种写法的缺点是，无法知道当前节点在第几层。知道节点的层数是个常见的需求，比方说让你收集每一层的节点，或者计算二叉树的最小深度等等。\n",
    "    所以这种写法虽然简单，但用的不多\n",
    "    \"\"\"\n",
    "    if root is None:\n",
    "        return\n",
    "    q = deque()\n",
    "    q.append(root)\n",
    "    while q:\n",
    "        cur = q.popleft()\n",
    "        print(cur.val)\n",
    "        if cur.left:\n",
    "            q.append(cur.left)\n",
    "        if cur.right:\n",
    "            q.append(cur.right)"
   ]
  },
  {
   "cell_type": "code",
   "execution_count": null,
   "metadata": {},
   "outputs": [],
   "source": [
    "from collections import deque\n",
    "\n",
    "\n",
    "def levelOrderTraverse(root: TreeNode):\n",
    "    \"\"\"这个是对上面解法的改造\n",
    "    加了一个depth来记录每个节点所在的层数\n",
    "    可以解决诸如二叉树最小深度这样的问题\n",
    "    是我们最常用的层序遍历写\n",
    "    \"\"\"\n",
    "    if root is None:\n",
    "        return\n",
    "    q = deque()\n",
    "    q.append(root)\n",
    "    depth = 1\n",
    "    while q:\n",
    "        sz = len(q)\n",
    "        for i in range(sz):\n",
    "            cur = q.popleft()\n",
    "            print(f\"depth={depth} val={cur.val}\")\n",
    "            if cur.left:\n",
    "                q.append(cur.left)\n",
    "            if cur.right:\n",
    "                q.append(cur.right)\n",
    "        depth += 1"
   ]
  },
  {
   "cell_type": "code",
   "execution_count": null,
   "metadata": {},
   "outputs": [],
   "source": [
    "class State:\n",
    "    def __init__(self, node, depth):\n",
    "        self.node = node\n",
    "        self.depth = depth\n",
    "\n",
    "\n",
    "def levelOrderTraverse(root: TreeNode):\n",
    "    \"\"\"如果每条树枝的权重和可以是任意值，同一层节点的路径权重和就不一定相同了，写法二那样只维护一个 depth 变量就无法满足需求了，\n",
    "    因此可以在写法一的基础上添加一个 State 类，让每个节点自己负责维护自己的路径权重和\n",
    "    \"\"\"\n",
    "    if root is None:\n",
    "        return\n",
    "    q = deque()\n",
    "    # 根节点的路径权重和是 1\n",
    "    q.append(State(root, 1))\n",
    "\n",
    "    while q:\n",
    "        cur = q.popleft()\n",
    "        # 访问 cur 节点，同时知道它的路径权重和\n",
    "        print(f\"depth = {cur.depth}, val = {cur.node.val}\")\n",
    "\n",
    "        # 把 cur 的左右子节点加入队列\n",
    "        if cur.node.left is not None:\n",
    "            q.append(State(cur.node.left, cur.depth + 1))\n",
    "        if cur.node.right is not None:\n",
    "            q.append(State(cur.node.right, cur.depth + 1))"
   ]
  }
 ],
 "metadata": {
  "language_info": {
   "name": "python"
  }
 },
 "nbformat": 4,
 "nbformat_minor": 2
}
