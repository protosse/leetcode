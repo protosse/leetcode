{
 "cells": [
  {
   "cell_type": "markdown",
   "metadata": {},
   "source": [
    "二叉堆在逻辑上其实是一种特殊的二叉树（完全二叉树），只不过存储在数组里。一般的链表二叉树，我们操作节点的指针，而在数组里，我们把数组索引作为指针，\n",
    "\n",
    "由于二叉堆是一个完全二叉树，因此通过数组索引，我们可以很方便的得到目标节点的父结点（i // 2）、左孩子节点（i * 2）、右孩子节点（i * 2 + 1）\n",
    "\n",
    "二叉堆还分为最大堆和最小堆。**最大堆的性质是：每个节点都大于等于它的两个子节点**。类似的，最小堆的性质是：每个节点都小于等于它的子节点"
   ]
  },
  {
   "cell_type": "markdown",
   "metadata": {},
   "source": [
    "## 优先级队列\n",
    "\n",
    "优先级队列这种数据结构有一个很有用的功能，你插入或者删除元素的时候，元素会自动排序，这底层的原理就是二叉堆的操作。\n",
    "\n",
    "优先级队列有两个主要 API，分别是 `insert` 插入一个元素和 `delMax` 删除最大元素（如果底层用最小堆，那么就是 `delMin`）。\n",
    "\n",
    "关于 swim 和 sink，我们要讲的是最大堆，每个节点都比它的两个子节点大，但是在插入元素和删除元素时，难免破坏堆的性质，这就需要通过这两个操作来恢复堆的性质了。\n",
    "\n",
    "对于最大堆，会破坏堆性质的有两种情况：\n",
    "\n",
    "1、如果某个节点 A 比它的子节点（中的一个）小，那么 A 就不配做父节点，应该下去，下面那个更大的节点上来做父节点，这就是对 A 进行**下沉**。\n",
    "\n",
    "2、如果某个节点 A 比它的父节点大，那么 A 不应该做子节点，应该把父节点换下来，自己去做父节点，这就是对 A 的**上浮**。\n",
    "\n",
    "当然，错位的节点 A 可能要上浮（或下沉）很多次，才能到达正确的位置，恢复堆的性质。所以代码中肯定有一个 `while` 循环。\n",
    "\n",
    "但是这两个操作不是互逆吗，所以上浮的操作一定能用下沉来完成，为什么我还要费劲写两个方法？\n",
    "\n",
    "是的，操作是互逆等价的，但是最终我们的操作只会在堆底和堆顶进行（等会讲原因），显然堆底的「错位」元素需要上浮，堆顶的「错位」元素需要下沉。"
   ]
  },
  {
   "cell_type": "code",
   "execution_count": null,
   "metadata": {},
   "outputs": [
    {
     "name": "stdout",
     "output_type": "stream",
     "text": [
      "[None, 30, 20, 5, 10]\n",
      "30\n",
      "[None, 20, 10, 5]\n"
     ]
    }
   ],
   "source": [
    "class MaxHeap:\n",
    "    def __init__(self):\n",
    "        # 存储元素的数组\n",
    "        self.pq = [None]\n",
    "        # 当前 Priority Queue 中的元素个数\n",
    "        self.size = 0\n",
    "\n",
    "    def max(self):\n",
    "        \"\"\"返回当前队列中最大元素\n",
    "        索引0是不用的因此返回的1\n",
    "        从索引1开始是为了计算节点方便\n",
    "        \"\"\"\n",
    "        return self.pq[1]\n",
    "\n",
    "    def insert(self, e):\n",
    "        \"\"\"插入元素 e\"\"\"\n",
    "        self.pq.append(e)\n",
    "        self.size += 1\n",
    "        # 上浮到正确的位置\n",
    "        self.__swim(self.size)\n",
    "\n",
    "    def delMax(self):\n",
    "        \"\"\"删除并返回当前队列中最大元素\"\"\"\n",
    "        # 把这个最大元素换到最后\n",
    "        self.__swap(1, self.size)\n",
    "        # 删除最大的元素\n",
    "        max = self.pq.pop()\n",
    "        self.size -= 1\n",
    "        # 让 pq[1] 下沉到正确位置\n",
    "        self.__sink(1)\n",
    "        return max\n",
    "\n",
    "    def __swim(self, x):\n",
    "        \"\"\"上浮第 x 个元素，以维护最大堆性质\"\"\"\n",
    "        while x > 1 and self.pq[self.__parent(x)] < self.pq[x]:\n",
    "            self.__swap(self.__parent(x), x)\n",
    "            x = self.__parent(x)\n",
    "\n",
    "    def __sink(self, x):\n",
    "        \"\"\"下沉第 x 个元素，以维护最大堆性质\n",
    "        下沉比上浮略微复杂一点，因为上浮某个节点 x\n",
    "        只需要 x 和其父节点比较大小即可；但是下沉某个节点 x\n",
    "        需要 x 和其两个子节点比较大小，如果 x 不是最大的就需要调整位置，要把较大的那个子节点和 x 交换。\n",
    "        \"\"\"\n",
    "        while self.__left(x) <= self.size:\n",
    "            max = self.__left(x)\n",
    "            if self.__right(x) <= self.size and self.pq[max] < self.pq[self.__right(x)]:\n",
    "                max = self.__right(x)\n",
    "            if self.pq[x] >= self.pq[max]:\n",
    "                break\n",
    "            self.__swap(max, x)\n",
    "            x = max\n",
    "\n",
    "    def __swap(self, i, j):\n",
    "        \"\"\"交换数组的两个元素\"\"\"\n",
    "        self.pq[i], self.pq[j] = self.pq[j], self.pq[i]\n",
    "\n",
    "    def __parent(self, i):\n",
    "        \"\"\"返回i的父结点\"\"\"\n",
    "        return i // 2\n",
    "\n",
    "    def __left(self, i):\n",
    "        \"\"\"返回i的左孩子结点\"\"\"\n",
    "        return i * 2\n",
    "\n",
    "    def __right(self, i):\n",
    "        \"\"\"返回i的右孩子结点\"\"\"\n",
    "        return i * 2 + 1\n",
    "\n",
    "    def __str__(self):\n",
    "        return str(self.pq)\n",
    "\n",
    "\n",
    "max_heap = MaxHeap()\n",
    "max_heap.insert(10)\n",
    "max_heap.insert(20)\n",
    "max_heap.insert(5)\n",
    "max_heap.insert(30)\n",
    "print(max_heap)  # Output: [30, 20, 5, 10]\n",
    "print(max_heap.delMax())  # Output: 30\n",
    "print(max_heap)  # Output: [20, 10, 5]"
   ]
  },
  {
   "cell_type": "markdown",
   "metadata": {},
   "source": [
    "至此，一个优先级队列就实现了，插入和删除元素的时间复杂度为 `O(logK)`，`K` 为当前二叉堆（优先级队列）中的元素总数。因为我们时间复杂度主要花费在 `sink` 或者 `swim` 上，而不管上浮还是下沉，最多也就树（堆）的高度，也就是 log 级别。"
   ]
  }
 ],
 "metadata": {
  "kernelspec": {
   "display_name": "Python 3",
   "language": "python",
   "name": "python3"
  },
  "language_info": {
   "codemirror_mode": {
    "name": "ipython",
    "version": 3
   },
   "file_extension": ".py",
   "mimetype": "text/x-python",
   "name": "python",
   "nbconvert_exporter": "python",
   "pygments_lexer": "ipython3",
   "version": "3.13.2"
  }
 },
 "nbformat": 4,
 "nbformat_minor": 2
}
